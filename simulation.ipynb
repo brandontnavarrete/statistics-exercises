{
 "cells": [
  {
   "cell_type": "code",
   "execution_count": 56,
   "id": "9432c1b5",
   "metadata": {},
   "outputs": [
    {
     "ename": "ModuleNotFoundError",
     "evalue": "No module named 'viz'",
     "output_type": "error",
     "traceback": [
      "\u001b[0;31m---------------------------------------------------------------------------\u001b[0m",
      "\u001b[0;31mModuleNotFoundError\u001b[0m                       Traceback (most recent call last)",
      "\u001b[0;32m/var/folders/d0/5dr5q0n145vcn3_m9dxy1xq80000gn/T/ipykernel_37582/2883735243.py\u001b[0m in \u001b[0;36m<module>\u001b[0;34m\u001b[0m\n\u001b[1;32m      3\u001b[0m \u001b[0;32mimport\u001b[0m \u001b[0mpandas\u001b[0m \u001b[0;32mas\u001b[0m \u001b[0mpd\u001b[0m\u001b[0;34m\u001b[0m\u001b[0;34m\u001b[0m\u001b[0m\n\u001b[1;32m      4\u001b[0m \u001b[0;34m\u001b[0m\u001b[0m\n\u001b[0;32m----> 5\u001b[0;31m \u001b[0;32mimport\u001b[0m \u001b[0mviz\u001b[0m \u001b[0;31m# curriculum example visualizations\u001b[0m\u001b[0;34m\u001b[0m\u001b[0;34m\u001b[0m\u001b[0m\n\u001b[0m\u001b[1;32m      6\u001b[0m \u001b[0;34m\u001b[0m\u001b[0m\n\u001b[1;32m      7\u001b[0m \u001b[0;34m\u001b[0m\u001b[0m\n",
      "\u001b[0;31mModuleNotFoundError\u001b[0m: No module named 'viz'"
     ]
    }
   ],
   "source": [
    "%matplotlib inline\n",
    "import numpy as np\n",
    "import pandas as pd\n",
    "\n",
    "import viz # curriculum example visualizations\n",
    "\n",
    "\n",
    "np.random.seed(29)\n"
   ]
  },
  {
   "cell_type": "markdown",
   "id": "d1ae3580",
   "metadata": {},
   "source": [
    "# 1 How likely is it that you roll doubles when rolling two dice?"
   ]
  },
  {
   "cell_type": "markdown",
   "id": "343fd09e",
   "metadata": {},
   "source": [
    "# simulations"
   ]
  },
  {
   "cell_type": "code",
   "execution_count": null,
   "id": "eb10f0e2",
   "metadata": {
    "scrolled": true
   },
   "outputs": [],
   "source": [
    "n_trials = nrows = 100\n",
    "n_dice = ncols = 2\n",
    "\n",
    "rolls = np.random.choice([1, 2, 3, 4, 5, 6], n_trials * n_dice).reshape(nrows, ncols)\n",
    "rolls"
   ]
  },
  {
   "cell_type": "code",
   "execution_count": null,
   "id": "fb8c1232",
   "metadata": {},
   "outputs": [],
   "source": [
    "dble = pd.DataFrame(rolls)\n",
    "dble.head(1)"
   ]
  },
  {
   "cell_type": "code",
   "execution_count": null,
   "id": "6651e14b",
   "metadata": {},
   "outputs": [],
   "source": [
    "rolling_double = len(dble[dble[0] == dble[1]]) "
   ]
  },
  {
   "cell_type": "code",
   "execution_count": null,
   "id": "0bd32882",
   "metadata": {},
   "outputs": [],
   "source": [
    "prob = (rolling_double / n_trials) * 100\n",
    "print(f'You would expect to roll a double out of a 100 times is {prob}')\n"
   ]
  },
  {
   "cell_type": "code",
   "execution_count": 3,
   "id": "4614842b",
   "metadata": {},
   "outputs": [],
   "source": [
    "# (1,1),(2,2),(3,3)(4,4)(5,5)(6,6)\n",
    "need_roll= 6 "
   ]
  },
  {
   "cell_type": "code",
   "execution_count": 4,
   "id": "c6475fc0",
   "metadata": {},
   "outputs": [],
   "source": [
    "poss_roll = 36 "
   ]
  },
  {
   "cell_type": "code",
   "execution_count": 5,
   "id": "74bbe9ca",
   "metadata": {},
   "outputs": [
    {
     "data": {
      "text/plain": [
       "16.666666666666664"
      ]
     },
     "execution_count": 5,
     "metadata": {},
     "output_type": "execute_result"
    }
   ],
   "source": [
    "chance1 = (need_roll/poss_roll) * 100\n",
    "chance1\n"
   ]
  },
  {
   "cell_type": "markdown",
   "id": "f9d00bc7",
   "metadata": {},
   "source": [
    "# 2 If you flip 8 coins, what is the probability of getting exactly 3 heads? What isthe probability of getting more than 3 heads?"
   ]
  },
  {
   "cell_type": "code",
   "execution_count": 6,
   "id": "ae3f8bc1",
   "metadata": {},
   "outputs": [
    {
     "data": {
      "text/html": [
       "<div>\n",
       "<style scoped>\n",
       "    .dataframe tbody tr th:only-of-type {\n",
       "        vertical-align: middle;\n",
       "    }\n",
       "\n",
       "    .dataframe tbody tr th {\n",
       "        vertical-align: top;\n",
       "    }\n",
       "\n",
       "    .dataframe thead th {\n",
       "        text-align: right;\n",
       "    }\n",
       "</style>\n",
       "<table border=\"1\" class=\"dataframe\">\n",
       "  <thead>\n",
       "    <tr style=\"text-align: right;\">\n",
       "      <th></th>\n",
       "      <th>0</th>\n",
       "      <th>1</th>\n",
       "      <th>2</th>\n",
       "      <th>3</th>\n",
       "      <th>4</th>\n",
       "      <th>5</th>\n",
       "      <th>6</th>\n",
       "      <th>7</th>\n",
       "    </tr>\n",
       "  </thead>\n",
       "  <tbody>\n",
       "    <tr>\n",
       "      <th>0</th>\n",
       "      <td>0</td>\n",
       "      <td>1</td>\n",
       "      <td>1</td>\n",
       "      <td>1</td>\n",
       "      <td>0</td>\n",
       "      <td>1</td>\n",
       "      <td>0</td>\n",
       "      <td>1</td>\n",
       "    </tr>\n",
       "    <tr>\n",
       "      <th>1</th>\n",
       "      <td>1</td>\n",
       "      <td>0</td>\n",
       "      <td>1</td>\n",
       "      <td>1</td>\n",
       "      <td>0</td>\n",
       "      <td>0</td>\n",
       "      <td>0</td>\n",
       "      <td>0</td>\n",
       "    </tr>\n",
       "    <tr>\n",
       "      <th>2</th>\n",
       "      <td>0</td>\n",
       "      <td>1</td>\n",
       "      <td>1</td>\n",
       "      <td>1</td>\n",
       "      <td>1</td>\n",
       "      <td>0</td>\n",
       "      <td>0</td>\n",
       "      <td>1</td>\n",
       "    </tr>\n",
       "    <tr>\n",
       "      <th>3</th>\n",
       "      <td>1</td>\n",
       "      <td>0</td>\n",
       "      <td>0</td>\n",
       "      <td>0</td>\n",
       "      <td>1</td>\n",
       "      <td>0</td>\n",
       "      <td>0</td>\n",
       "      <td>1</td>\n",
       "    </tr>\n",
       "    <tr>\n",
       "      <th>4</th>\n",
       "      <td>0</td>\n",
       "      <td>1</td>\n",
       "      <td>1</td>\n",
       "      <td>0</td>\n",
       "      <td>0</td>\n",
       "      <td>0</td>\n",
       "      <td>0</td>\n",
       "      <td>1</td>\n",
       "    </tr>\n",
       "  </tbody>\n",
       "</table>\n",
       "</div>"
      ],
      "text/plain": [
       "   0  1  2  3  4  5  6  7\n",
       "0  0  1  1  1  0  1  0  1\n",
       "1  1  0  1  1  0  0  0  0\n",
       "2  0  1  1  1  1  0  0  1\n",
       "3  1  0  0  0  1  0  0  1\n",
       "4  0  1  1  0  0  0  0  1"
      ]
     },
     "execution_count": 6,
     "metadata": {},
     "output_type": "execute_result"
    }
   ],
   "source": [
    "throw = np.random.randint(0,2,(1000,8))\n",
    "throw = pd.DataFrame(throw)\n",
    "throw.head()"
   ]
  },
  {
   "cell_type": "code",
   "execution_count": null,
   "id": "1fe3d5fb",
   "metadata": {},
   "outputs": [],
   "source": [
    "#naps.sum(axis=1)"
   ]
  },
  {
   "cell_type": "code",
   "execution_count": 240,
   "id": "995cb9b6",
   "metadata": {},
   "outputs": [
    {
     "data": {
      "text/plain": [
       "0.217"
      ]
     },
     "execution_count": 240,
     "metadata": {},
     "output_type": "execute_result"
    }
   ],
   "source": [
    "           # sum along the 1, axis. compare for the count of 3. treat true as 1. then average the query\n",
    "ext_three = (throw.sum(axis=1) == 3).mean()\n",
    "ext_three"
   ]
  },
  {
   "cell_type": "code",
   "execution_count": 242,
   "id": "838fde73",
   "metadata": {},
   "outputs": [
    {
     "data": {
      "text/plain": [
       "0.628"
      ]
     },
     "execution_count": 242,
     "metadata": {},
     "output_type": "execute_result"
    }
   ],
   "source": [
    "more_three = (throw.sum(axis=1) > 3).mean()\n",
    "more_three\n"
   ]
  },
  {
   "cell_type": "markdown",
   "id": "30731eef",
   "metadata": {},
   "source": [
    "# used for reference\n",
    "'''\n",
    "First we assign values for the number of rows and columns we are going to use\n",
    "Next we create the rolls variable that holds a 3 x 10,000 matrix where each element is a randomly chosen number from 1 to 6\n",
    "Lastly we create a dataframe from the rolls\n",
    "pd.DataFrame(rolls) converts our 2d numpy matrix to a pandas DataFrame\n",
    ".apply(... applies a function to each row in our dataframe, because we specified axis=1, the function will be called with each row as it's argument. The body of the function checks to see if the value 3 is in the values of the row, and will return either True or False\n",
    ".mean() takes our resulting series of boolean values, and treats True as 1 and False as 0, to give us the average rate of Trues, in this case, the simulated probability of getting a 3 in 3 dice rolls.\n",
    "\n",
    "\n",
    "'''"
   ]
  },
  {
   "cell_type": "markdown",
   "id": "6a5c8915",
   "metadata": {},
   "source": [
    "# 3 There are approximitely 3 web development cohorts for every 1 data science cohort at Codeup. Assuming that Codeup randomly selects an alumni to put on a billboard, what are the odds that the two billboards I drive past both have data science students on them?"
   ]
  },
  {
   "cell_type": "code",
   "execution_count": 16,
   "id": "53ed9f31",
   "metadata": {},
   "outputs": [
    {
     "data": {
      "text/plain": [
       "array([[0.39718496, 0.15004656],\n",
       "       [0.05299024, 0.93994598],\n",
       "       [0.51020482, 0.70483935],\n",
       "       ...,\n",
       "       [0.86799965, 0.11289898],\n",
       "       [0.02684639, 0.17465141],\n",
       "       [0.59698823, 0.11195516]])"
      ]
     },
     "execution_count": 16,
     "metadata": {},
     "output_type": "execute_result"
    }
   ],
   "source": [
    "n_trials = nrows = 100000\n",
    "n_board = ncols = 2\n",
    "\n",
    "ps_bill = np.random.random(n_trials * n_board).reshape(nrows, ncols)\n",
    "ps_bill"
   ]
  },
  {
   "cell_type": "code",
   "execution_count": 32,
   "id": "1a44710b",
   "metadata": {},
   "outputs": [
    {
     "data": {
      "text/plain": [
       "0.49759"
      ]
     },
     "execution_count": 32,
     "metadata": {},
     "output_type": "execute_result"
    }
   ],
   "source": [
    "# (ps_bill <= .25).sum(axis = 1).mean()"
   ]
  },
  {
   "cell_type": "code",
   "execution_count": 36,
   "id": "b8aab7ad",
   "metadata": {},
   "outputs": [],
   "source": [
    "ps_ds = (ps_bill <= .25).prod(axis = 1).mean()"
   ]
  },
  {
   "cell_type": "code",
   "execution_count": 37,
   "id": "b37e0d7b",
   "metadata": {},
   "outputs": [
    {
     "data": {
      "text/plain": [
       "0.06184"
      ]
     },
     "execution_count": 37,
     "metadata": {},
     "output_type": "execute_result"
    }
   ],
   "source": [
    "ps_ds"
   ]
  },
  {
   "cell_type": "markdown",
   "id": "89fcf931",
   "metadata": {},
   "source": [
    " # 4 Codeup students buy, on average, 3 poptart packages with a standard deviation of 1.5 a day from the snack vending machine. If on monday the machine is restocked with 17 poptart packages, how likely is it that I will be able to buy some poptarts on Friday afternoon? (Remember, if you have mean and standard deviation, use the np.random.normal) You'll need to make a judgement call on how to handle some of your values"
   ]
  },
  {
   "cell_type": "markdown",
   "id": "a099c1f5",
   "metadata": {},
   "source": [
    "# 5"
   ]
  },
  {
   "cell_type": "code",
   "execution_count": null,
   "id": "d49f5b80",
   "metadata": {},
   "outputs": [],
   "source": [
    "#random.normal(loc=0.0, scale=1.0, size=None)\n",
    "#draw random samples from a normal (Gaussian) distribution."
   ]
  },
  {
   "cell_type": "code",
   "execution_count": 71,
   "id": "0ed2e68a",
   "metadata": {},
   "outputs": [
    {
     "data": {
      "text/plain": [
       "array([[3., 1., 6., 1., 3.],\n",
       "       [0., 4., 2., 1., 2.],\n",
       "       [0., 1., 2., 4., 5.],\n",
       "       ...,\n",
       "       [4., 3., 3., 2., 2.],\n",
       "       [1., 3., 7., 4., 4.],\n",
       "       [0., 1., 4., 3., 3.]])"
      ]
     },
     "execution_count": 71,
     "metadata": {},
     "output_type": "execute_result"
    }
   ],
   "source": [
    "               # 3 poptarts within stdv of 1.5\n",
    "                        # sample size\n",
    "pts = np.random.normal(3, 1.5,(1000000,5))\n",
    "pts = np.floor(pts)\n",
    "pts"
   ]
  },
  {
   "cell_type": "code",
   "execution_count": 70,
   "id": "1612e83a",
   "metadata": {},
   "outputs": [
    {
     "data": {
      "text/plain": [
       "0.880245"
      ]
     },
     "execution_count": 70,
     "metadata": {},
     "output_type": "execute_result"
    }
   ],
   "source": [
    "p_friday = (pts.sum(axis=1) <= 16).mean()\n",
    "\n",
    "p_friday"
   ]
  },
  {
   "cell_type": "code",
   "execution_count": null,
   "id": "4bc17cb9",
   "metadata": {},
   "outputs": [],
   "source": []
  }
 ],
 "metadata": {
  "kernelspec": {
   "display_name": "Python 3 (ipykernel)",
   "language": "python",
   "name": "python3"
  },
  "language_info": {
   "codemirror_mode": {
    "name": "ipython",
    "version": 3
   },
   "file_extension": ".py",
   "mimetype": "text/x-python",
   "name": "python",
   "nbconvert_exporter": "python",
   "pygments_lexer": "ipython3",
   "version": "3.9.13"
  }
 },
 "nbformat": 4,
 "nbformat_minor": 5
}
