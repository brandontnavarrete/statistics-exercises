{
 "cells": [
  {
   "cell_type": "code",
   "execution_count": 55,
   "id": "94f93fdd",
   "metadata": {},
   "outputs": [],
   "source": [
    "import matplotlib.pyplot as plt\n",
    "import numpy as np\n",
    "from scipy import stats\n",
    "from scipy.stats import norm\n",
    "import viz # curriculum viz example code\n",
    "import pandas as pd\n",
    "import numpy as np\n",
    "\n",
    "np.random.seed(123)"
   ]
  },
  {
   "cell_type": "markdown",
   "id": "e45208fc",
   "metadata": {},
   "source": [
    "# # 1"
   ]
  },
  {
   "cell_type": "markdown",
   "id": "d0d3f508",
   "metadata": {},
   "source": [
    "# \n",
    "A bank found that the average number of cars waiting during the noon hour at a drive-up window follows a Poisson distribution with a mean of 2 cars. Make a chart of this distribution and answer these questions concerning the probability of cars waiting at the drive-up window.\n",
    "\n",
    "What is the probability that no cars drive up in the noon hour?\n",
    "\n",
    "What is the probability that 3 or more cars come through the drive through?\n",
    "\n",
    "How likely is it that the drive through gets at least 1 car?"
   ]
  },
  {
   "cell_type": "code",
   "execution_count": 2,
   "id": "d496f244",
   "metadata": {},
   "outputs": [
    {
     "data": {
      "text/plain": [
       "0.1353352832366127"
      ]
     },
     "execution_count": 2,
     "metadata": {},
     "output_type": "execute_result"
    }
   ],
   "source": [
    "# average of 2 cars\n",
    " # single event, no cars come.\n",
    "stats.poisson(2).pmf(0)"
   ]
  },
  {
   "cell_type": "code",
   "execution_count": 3,
   "id": "67061d4a",
   "metadata": {},
   "outputs": [
    {
     "data": {
      "text/plain": [
       "0.14287653950145296"
      ]
     },
     "execution_count": 3,
     "metadata": {},
     "output_type": "execute_result"
    }
   ],
   "source": [
    "# average of 2 cars\n",
    " # single event, 3+ cars come.\n",
    "stats.poisson(2).sf(3)"
   ]
  },
  {
   "cell_type": "code",
   "execution_count": 5,
   "id": "5b58c017",
   "metadata": {},
   "outputs": [
    {
     "data": {
      "text/plain": [
       "0.2706705664732254"
      ]
     },
     "execution_count": 5,
     "metadata": {},
     "output_type": "execute_result"
    }
   ],
   "source": [
    "# average of 2 cars\n",
    " # single event, 1 car comes.\n",
    "stats.poisson(2).pmf(1)"
   ]
  },
  {
   "cell_type": "markdown",
   "id": "a56980bf",
   "metadata": {},
   "source": [
    "# 2"
   ]
  },
  {
   "cell_type": "markdown",
   "id": "2dc52222",
   "metadata": {},
   "source": [
    "Grades of State University graduates are normally distributed with a mean of 3.0 and a standard deviation of .3. Calculate the following:\n",
    "\n",
    "What grade point average is required to be in the top 5% of the graduating class?\n",
    "What GPA constitutes the bottom 15% of the class?\n",
    "An eccentric alumnus left scholarship money for students in the third decile from the bottom of their class. Determine the range of the third decile. Would a student with a 2.8 grade point average qualify for this scholarship?\n",
    "If I have a GPA of 3.5, what percentile am I in?\n"
   ]
  },
  {
   "cell_type": "code",
   "execution_count": 45,
   "id": "34d8b022",
   "metadata": {},
   "outputs": [],
   "source": [
    "nm = 3.0\n",
    "sd = .3\n",
    "\n",
    "gpa = stats.norm(nd, sd)"
   ]
  },
  {
   "cell_type": "code",
   "execution_count": 22,
   "id": "489464d6",
   "metadata": {},
   "outputs": [
    {
     "data": {
      "text/plain": [
       "2.4747941786243493"
      ]
     },
     "execution_count": 22,
     "metadata": {},
     "output_type": "execute_result"
    }
   ],
   "source": [
    "top_five_cut_off = gpa.ppf(.04)\n",
    "top_five_cut_off "
   ]
  },
  {
   "cell_type": "code",
   "execution_count": 48,
   "id": "ffba0be1",
   "metadata": {},
   "outputs": [
    {
     "data": {
      "text/plain": [
       "1.0494515075362604e-21"
      ]
     },
     "execution_count": 48,
     "metadata": {},
     "output_type": "execute_result"
    }
   ],
   "source": [
    "# cdf (likelihood of a single outcome or all the results below it)\n",
    "bottom_fifteen = gpa.cdf(.15)\n",
    "bottom_fifteen"
   ]
  },
  {
   "cell_type": "code",
   "execution_count": 58,
   "id": "2ba41044",
   "metadata": {},
   "outputs": [
    {
     "data": {
      "text/plain": [
       "<scipy.stats._distn_infrastructure.rv_continuous_frozen at 0x7fc35469cb20>"
      ]
     },
     "execution_count": 58,
     "metadata": {},
     "output_type": "execute_result"
    }
   ],
   "source": [
    "\n"
   ]
  },
  {
   "cell_type": "code",
   "execution_count": null,
   "id": "82db82be",
   "metadata": {},
   "outputs": [],
   "source": []
  }
 ],
 "metadata": {
  "kernelspec": {
   "display_name": "Python 3 (ipykernel)",
   "language": "python",
   "name": "python3"
  },
  "language_info": {
   "codemirror_mode": {
    "name": "ipython",
    "version": 3
   },
   "file_extension": ".py",
   "mimetype": "text/x-python",
   "name": "python",
   "nbconvert_exporter": "python",
   "pygments_lexer": "ipython3",
   "version": "3.9.13"
  }
 },
 "nbformat": 4,
 "nbformat_minor": 5
}
