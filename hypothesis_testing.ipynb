{
 "cells": [
  {
   "cell_type": "code",
   "execution_count": 36,
   "id": "4bee7185",
   "metadata": {},
   "outputs": [],
   "source": [
    "import numpy as np\n",
    "import pandas as pd\n",
    "import matplotlib.pyplot as plt\n",
    "from pydataset import data\n",
    "import scipy.stats as stats"
   ]
  },
  {
   "cell_type": "code",
   "execution_count": 1,
   "id": "9d2a37b4",
   "metadata": {},
   "outputs": [],
   "source": [
    "df = pd.read_csv('telco_normalized - telco_normalized.csv')"
   ]
  },
  {
   "cell_type": "code",
   "execution_count": 2,
   "id": "71591fba",
   "metadata": {},
   "outputs": [
    {
     "data": {
      "text/html": [
       "<div>\n",
       "<style scoped>\n",
       "    .dataframe tbody tr th:only-of-type {\n",
       "        vertical-align: middle;\n",
       "    }\n",
       "\n",
       "    .dataframe tbody tr th {\n",
       "        vertical-align: top;\n",
       "    }\n",
       "\n",
       "    .dataframe thead th {\n",
       "        text-align: right;\n",
       "    }\n",
       "</style>\n",
       "<table border=\"1\" class=\"dataframe\">\n",
       "  <thead>\n",
       "    <tr style=\"text-align: right;\">\n",
       "      <th></th>\n",
       "      <th>payment_type_id</th>\n",
       "      <th>internet_service_type_id</th>\n",
       "      <th>contract_type_id</th>\n",
       "      <th>customer_id</th>\n",
       "      <th>gender</th>\n",
       "      <th>senior_citizen</th>\n",
       "      <th>partner</th>\n",
       "      <th>dependents</th>\n",
       "      <th>churn_month</th>\n",
       "      <th>paperless_billing</th>\n",
       "      <th>...</th>\n",
       "      <th>multiple_lines</th>\n",
       "      <th>online_security</th>\n",
       "      <th>online_backup</th>\n",
       "      <th>device_protection</th>\n",
       "      <th>tech_support</th>\n",
       "      <th>streaming_tv</th>\n",
       "      <th>streaming_movies</th>\n",
       "      <th>contract_type</th>\n",
       "      <th>internet_service_type</th>\n",
       "      <th>payment_type</th>\n",
       "    </tr>\n",
       "  </thead>\n",
       "  <tbody>\n",
       "    <tr>\n",
       "      <th>0</th>\n",
       "      <td>2</td>\n",
       "      <td>1</td>\n",
       "      <td>2</td>\n",
       "      <td>0002-ORFBO</td>\n",
       "      <td>Female</td>\n",
       "      <td>0</td>\n",
       "      <td>Yes</td>\n",
       "      <td>Yes</td>\n",
       "      <td>NaN</td>\n",
       "      <td>Yes</td>\n",
       "      <td>...</td>\n",
       "      <td>No</td>\n",
       "      <td>No</td>\n",
       "      <td>Yes</td>\n",
       "      <td>No</td>\n",
       "      <td>Yes</td>\n",
       "      <td>Yes</td>\n",
       "      <td>No</td>\n",
       "      <td>One year</td>\n",
       "      <td>DSL</td>\n",
       "      <td>Mailed check</td>\n",
       "    </tr>\n",
       "    <tr>\n",
       "      <th>1</th>\n",
       "      <td>2</td>\n",
       "      <td>1</td>\n",
       "      <td>1</td>\n",
       "      <td>0003-MKNFE</td>\n",
       "      <td>Male</td>\n",
       "      <td>0</td>\n",
       "      <td>No</td>\n",
       "      <td>No</td>\n",
       "      <td>NaN</td>\n",
       "      <td>No</td>\n",
       "      <td>...</td>\n",
       "      <td>Yes</td>\n",
       "      <td>No</td>\n",
       "      <td>No</td>\n",
       "      <td>No</td>\n",
       "      <td>No</td>\n",
       "      <td>No</td>\n",
       "      <td>Yes</td>\n",
       "      <td>Month-to-month</td>\n",
       "      <td>DSL</td>\n",
       "      <td>Mailed check</td>\n",
       "    </tr>\n",
       "    <tr>\n",
       "      <th>2</th>\n",
       "      <td>1</td>\n",
       "      <td>2</td>\n",
       "      <td>1</td>\n",
       "      <td>0004-TLHLJ</td>\n",
       "      <td>Male</td>\n",
       "      <td>0</td>\n",
       "      <td>No</td>\n",
       "      <td>No</td>\n",
       "      <td>2022-01-31</td>\n",
       "      <td>Yes</td>\n",
       "      <td>...</td>\n",
       "      <td>No</td>\n",
       "      <td>No</td>\n",
       "      <td>No</td>\n",
       "      <td>Yes</td>\n",
       "      <td>No</td>\n",
       "      <td>No</td>\n",
       "      <td>No</td>\n",
       "      <td>Month-to-month</td>\n",
       "      <td>Fiber optic</td>\n",
       "      <td>Electronic check</td>\n",
       "    </tr>\n",
       "    <tr>\n",
       "      <th>3</th>\n",
       "      <td>1</td>\n",
       "      <td>2</td>\n",
       "      <td>1</td>\n",
       "      <td>0011-IGKFF</td>\n",
       "      <td>Male</td>\n",
       "      <td>1</td>\n",
       "      <td>Yes</td>\n",
       "      <td>No</td>\n",
       "      <td>2022-01-31</td>\n",
       "      <td>Yes</td>\n",
       "      <td>...</td>\n",
       "      <td>No</td>\n",
       "      <td>No</td>\n",
       "      <td>Yes</td>\n",
       "      <td>Yes</td>\n",
       "      <td>No</td>\n",
       "      <td>Yes</td>\n",
       "      <td>Yes</td>\n",
       "      <td>Month-to-month</td>\n",
       "      <td>Fiber optic</td>\n",
       "      <td>Electronic check</td>\n",
       "    </tr>\n",
       "    <tr>\n",
       "      <th>4</th>\n",
       "      <td>2</td>\n",
       "      <td>2</td>\n",
       "      <td>1</td>\n",
       "      <td>0013-EXCHZ</td>\n",
       "      <td>Female</td>\n",
       "      <td>1</td>\n",
       "      <td>Yes</td>\n",
       "      <td>No</td>\n",
       "      <td>2022-01-31</td>\n",
       "      <td>Yes</td>\n",
       "      <td>...</td>\n",
       "      <td>No</td>\n",
       "      <td>No</td>\n",
       "      <td>No</td>\n",
       "      <td>No</td>\n",
       "      <td>Yes</td>\n",
       "      <td>Yes</td>\n",
       "      <td>No</td>\n",
       "      <td>Month-to-month</td>\n",
       "      <td>Fiber optic</td>\n",
       "      <td>Mailed check</td>\n",
       "    </tr>\n",
       "    <tr>\n",
       "      <th>...</th>\n",
       "      <td>...</td>\n",
       "      <td>...</td>\n",
       "      <td>...</td>\n",
       "      <td>...</td>\n",
       "      <td>...</td>\n",
       "      <td>...</td>\n",
       "      <td>...</td>\n",
       "      <td>...</td>\n",
       "      <td>...</td>\n",
       "      <td>...</td>\n",
       "      <td>...</td>\n",
       "      <td>...</td>\n",
       "      <td>...</td>\n",
       "      <td>...</td>\n",
       "      <td>...</td>\n",
       "      <td>...</td>\n",
       "      <td>...</td>\n",
       "      <td>...</td>\n",
       "      <td>...</td>\n",
       "      <td>...</td>\n",
       "      <td>...</td>\n",
       "    </tr>\n",
       "    <tr>\n",
       "      <th>7038</th>\n",
       "      <td>2</td>\n",
       "      <td>2</td>\n",
       "      <td>2</td>\n",
       "      <td>9979-RGMZT</td>\n",
       "      <td>Female</td>\n",
       "      <td>0</td>\n",
       "      <td>No</td>\n",
       "      <td>No</td>\n",
       "      <td>NaN</td>\n",
       "      <td>Yes</td>\n",
       "      <td>...</td>\n",
       "      <td>No</td>\n",
       "      <td>No</td>\n",
       "      <td>Yes</td>\n",
       "      <td>No</td>\n",
       "      <td>No</td>\n",
       "      <td>Yes</td>\n",
       "      <td>Yes</td>\n",
       "      <td>One year</td>\n",
       "      <td>Fiber optic</td>\n",
       "      <td>Mailed check</td>\n",
       "    </tr>\n",
       "    <tr>\n",
       "      <th>7039</th>\n",
       "      <td>2</td>\n",
       "      <td>2</td>\n",
       "      <td>1</td>\n",
       "      <td>9985-MWVIX</td>\n",
       "      <td>Female</td>\n",
       "      <td>0</td>\n",
       "      <td>No</td>\n",
       "      <td>No</td>\n",
       "      <td>2022-01-31</td>\n",
       "      <td>Yes</td>\n",
       "      <td>...</td>\n",
       "      <td>No</td>\n",
       "      <td>No</td>\n",
       "      <td>No</td>\n",
       "      <td>No</td>\n",
       "      <td>No</td>\n",
       "      <td>No</td>\n",
       "      <td>No</td>\n",
       "      <td>Month-to-month</td>\n",
       "      <td>Fiber optic</td>\n",
       "      <td>Mailed check</td>\n",
       "    </tr>\n",
       "    <tr>\n",
       "      <th>7040</th>\n",
       "      <td>3</td>\n",
       "      <td>3</td>\n",
       "      <td>1</td>\n",
       "      <td>9986-BONCE</td>\n",
       "      <td>Female</td>\n",
       "      <td>0</td>\n",
       "      <td>No</td>\n",
       "      <td>No</td>\n",
       "      <td>2022-01-31</td>\n",
       "      <td>No</td>\n",
       "      <td>...</td>\n",
       "      <td>No</td>\n",
       "      <td>No internet service</td>\n",
       "      <td>No internet service</td>\n",
       "      <td>No internet service</td>\n",
       "      <td>No internet service</td>\n",
       "      <td>No internet service</td>\n",
       "      <td>No internet service</td>\n",
       "      <td>Month-to-month</td>\n",
       "      <td>None</td>\n",
       "      <td>Bank transfer (automatic)</td>\n",
       "    </tr>\n",
       "    <tr>\n",
       "      <th>7041</th>\n",
       "      <td>2</td>\n",
       "      <td>1</td>\n",
       "      <td>1</td>\n",
       "      <td>9992-UJOEL</td>\n",
       "      <td>Male</td>\n",
       "      <td>0</td>\n",
       "      <td>No</td>\n",
       "      <td>No</td>\n",
       "      <td>NaN</td>\n",
       "      <td>Yes</td>\n",
       "      <td>...</td>\n",
       "      <td>No</td>\n",
       "      <td>No</td>\n",
       "      <td>Yes</td>\n",
       "      <td>No</td>\n",
       "      <td>No</td>\n",
       "      <td>No</td>\n",
       "      <td>No</td>\n",
       "      <td>Month-to-month</td>\n",
       "      <td>DSL</td>\n",
       "      <td>Mailed check</td>\n",
       "    </tr>\n",
       "    <tr>\n",
       "      <th>7042</th>\n",
       "      <td>1</td>\n",
       "      <td>1</td>\n",
       "      <td>3</td>\n",
       "      <td>9995-HOTOH</td>\n",
       "      <td>Male</td>\n",
       "      <td>0</td>\n",
       "      <td>Yes</td>\n",
       "      <td>Yes</td>\n",
       "      <td>NaN</td>\n",
       "      <td>No</td>\n",
       "      <td>...</td>\n",
       "      <td>No phone service</td>\n",
       "      <td>Yes</td>\n",
       "      <td>Yes</td>\n",
       "      <td>Yes</td>\n",
       "      <td>No</td>\n",
       "      <td>Yes</td>\n",
       "      <td>Yes</td>\n",
       "      <td>Two year</td>\n",
       "      <td>DSL</td>\n",
       "      <td>Electronic check</td>\n",
       "    </tr>\n",
       "  </tbody>\n",
       "</table>\n",
       "<p>7043 rows × 24 columns</p>\n",
       "</div>"
      ],
      "text/plain": [
       "      payment_type_id  internet_service_type_id  contract_type_id customer_id  \\\n",
       "0                   2                         1                 2  0002-ORFBO   \n",
       "1                   2                         1                 1  0003-MKNFE   \n",
       "2                   1                         2                 1  0004-TLHLJ   \n",
       "3                   1                         2                 1  0011-IGKFF   \n",
       "4                   2                         2                 1  0013-EXCHZ   \n",
       "...               ...                       ...               ...         ...   \n",
       "7038                2                         2                 2  9979-RGMZT   \n",
       "7039                2                         2                 1  9985-MWVIX   \n",
       "7040                3                         3                 1  9986-BONCE   \n",
       "7041                2                         1                 1  9992-UJOEL   \n",
       "7042                1                         1                 3  9995-HOTOH   \n",
       "\n",
       "      gender  senior_citizen partner dependents churn_month paperless_billing  \\\n",
       "0     Female               0     Yes        Yes         NaN               Yes   \n",
       "1       Male               0      No         No         NaN                No   \n",
       "2       Male               0      No         No  2022-01-31               Yes   \n",
       "3       Male               1     Yes         No  2022-01-31               Yes   \n",
       "4     Female               1     Yes         No  2022-01-31               Yes   \n",
       "...      ...             ...     ...        ...         ...               ...   \n",
       "7038  Female               0      No         No         NaN               Yes   \n",
       "7039  Female               0      No         No  2022-01-31               Yes   \n",
       "7040  Female               0      No         No  2022-01-31                No   \n",
       "7041    Male               0      No         No         NaN               Yes   \n",
       "7042    Male               0     Yes        Yes         NaN                No   \n",
       "\n",
       "      ...    multiple_lines      online_security        online_backup  \\\n",
       "0     ...                No                   No                  Yes   \n",
       "1     ...               Yes                   No                   No   \n",
       "2     ...                No                   No                   No   \n",
       "3     ...                No                   No                  Yes   \n",
       "4     ...                No                   No                   No   \n",
       "...   ...               ...                  ...                  ...   \n",
       "7038  ...                No                   No                  Yes   \n",
       "7039  ...                No                   No                   No   \n",
       "7040  ...                No  No internet service  No internet service   \n",
       "7041  ...                No                   No                  Yes   \n",
       "7042  ...  No phone service                  Yes                  Yes   \n",
       "\n",
       "        device_protection         tech_support         streaming_tv  \\\n",
       "0                      No                  Yes                  Yes   \n",
       "1                      No                   No                   No   \n",
       "2                     Yes                   No                   No   \n",
       "3                     Yes                   No                  Yes   \n",
       "4                      No                  Yes                  Yes   \n",
       "...                   ...                  ...                  ...   \n",
       "7038                   No                   No                  Yes   \n",
       "7039                   No                   No                   No   \n",
       "7040  No internet service  No internet service  No internet service   \n",
       "7041                   No                   No                   No   \n",
       "7042                  Yes                   No                  Yes   \n",
       "\n",
       "         streaming_movies   contract_type internet_service_type  \\\n",
       "0                      No        One year                   DSL   \n",
       "1                     Yes  Month-to-month                   DSL   \n",
       "2                      No  Month-to-month           Fiber optic   \n",
       "3                     Yes  Month-to-month           Fiber optic   \n",
       "4                      No  Month-to-month           Fiber optic   \n",
       "...                   ...             ...                   ...   \n",
       "7038                  Yes        One year           Fiber optic   \n",
       "7039                   No  Month-to-month           Fiber optic   \n",
       "7040  No internet service  Month-to-month                  None   \n",
       "7041                   No  Month-to-month                   DSL   \n",
       "7042                  Yes        Two year                   DSL   \n",
       "\n",
       "                   payment_type  \n",
       "0                  Mailed check  \n",
       "1                  Mailed check  \n",
       "2              Electronic check  \n",
       "3              Electronic check  \n",
       "4                  Mailed check  \n",
       "...                         ...  \n",
       "7038               Mailed check  \n",
       "7039               Mailed check  \n",
       "7040  Bank transfer (automatic)  \n",
       "7041               Mailed check  \n",
       "7042           Electronic check  \n",
       "\n",
       "[7043 rows x 24 columns]"
      ]
     },
     "execution_count": 2,
     "metadata": {},
     "output_type": "execute_result"
    }
   ],
   "source": [
    "df\n"
   ]
  },
  {
   "cell_type": "code",
   "execution_count": null,
   "id": "7dbd1b18",
   "metadata": {},
   "outputs": [],
   "source": [
    "# do those who churn (has_churned, boolean) spend more each month \n",
    "# (avg_monthly_spend, numeric) than those who do not churn? \n",
    "# (boolean x numeric: comparison of means (t-test) across the 2 groups)"
   ]
  },
  {
   "cell_type": "markdown",
   "id": "785a31a7",
   "metadata": {},
   "source": [
    "# has the network latency gone up since we switched internet service providers?"
   ]
  },
  {
   "cell_type": "code",
   "execution_count": null,
   "id": "dbdfbd9a",
   "metadata": {},
   "outputs": [],
   "source": [
    "\n",
    "# has latency speed (numeric) slowed down since isp (new_isp, boolean ) OR (year_of _switch, numeric)"
   ]
  },
  {
   "cell_type": "code",
   "execution_count": null,
   "id": "d93d088a",
   "metadata": {},
   "outputs": [],
   "source": [
    "# null = latency speed has no change  or decreased in relation to isp.\n",
    "\n",
    "# alt = latency speed has a significant increase in speed in relation to isp\n",
    "\n",
    "# speed and isp has a positive correlation and we verify true.\n",
    "\n",
    "# speed and isp has a no / negative correlation and we verify true.\n",
    "\n",
    "# type 1 error = latency did speed up but we don't attribute it to isp\n",
    "\n",
    "# type 2 error = latency didn't speed up but we also say it did in relation to isp"
   ]
  },
  {
   "cell_type": "markdown",
   "id": "865b8936",
   "metadata": {},
   "source": [
    "# is the website redesign any good?"
   ]
  },
  {
   "cell_type": "code",
   "execution_count": null,
   "id": "ca555680",
   "metadata": {},
   "outputs": [],
   "source": [
    "# since a specific date ( in relation to the website redesign) ( (date_of_switch, numeric))\n",
    "#has our internet traffic increased.( new_click_through, numeric) vs ( old_click_through, numeric)"
   ]
  },
  {
   "cell_type": "code",
   "execution_count": null,
   "id": "8afe0b96",
   "metadata": {},
   "outputs": [],
   "source": [
    "# null = the date of the redesign has no influence or lower in website traffic.\n",
    "\n",
    "# alt = the date of the redesign has significant influence in website traffic.\n",
    "\n",
    "# date and traffic has a positive correlation and we verify true.\n",
    "\n",
    "# date and traffic has a no correlation or negative and we verify true.\n",
    "\n",
    "# type 1 error = traffic has increased but we say it hasn't.\n",
    "\n",
    "# type 2 error = traffic hasn't increased but we say it did."
   ]
  },
  {
   "cell_type": "markdown",
   "id": "3d72b62d",
   "metadata": {},
   "source": [
    "# is our television ad driving more sales?"
   ]
  },
  {
   "cell_type": "code",
   "execution_count": null,
   "id": "0348a43f",
   "metadata": {},
   "outputs": [],
   "source": [
    "# since a specific date ( in relation to the ad release) ( (date_of_ad, numeric))\n",
    "#has our internet traffic increased.( new_click_through, numeric) vs ( old_click_through, numeric)\n",
    "\n",
    "# null = the television ad has no influence or lower sales\n",
    "\n",
    "# alt = the television ad has influence or higher sales\n",
    "\n",
    "# sales increased and we say it did\n",
    "\n",
    "# sales decreased or stayed the same and we agree\n",
    "\n",
    "# type 1 error = sales have increased but we say it hasn't\n",
    "\n",
    "# type 2 error = sales have decreased but we say it hasn't\n"
   ]
  },
  {
   "cell_type": "markdown",
   "id": "4a6e6643",
   "metadata": {},
   "source": [
    "# Exercises T - Test"
   ]
  },
  {
   "cell_type": "markdown",
   "id": "7ad32a90",
   "metadata": {},
   "source": [
    "# # 1 Answer with the type of test you would use (assume normal distribution):"
   ]
  },
  {
   "cell_type": "markdown",
   "id": "e4d2acf2",
   "metadata": {},
   "source": [
    "# Is there a difference in grades of students on the second floor compared to grades of all students?"
   ]
  },
  {
   "cell_type": "code",
   "execution_count": null,
   "id": "b9fe982a",
   "metadata": {},
   "outputs": [],
   "source": [
    "# 1-sample (comparing 1 group to the average) t-test.\n"
   ]
  },
  {
   "cell_type": "markdown",
   "id": "b3582f36",
   "metadata": {},
   "source": [
    "# Are adults who drink milk taller than adults who dont drink milk?"
   ]
  },
  {
   "cell_type": "code",
   "execution_count": null,
   "id": "1807954b",
   "metadata": {},
   "outputs": [],
   "source": [
    "# independent T-Test (a.k.a. Two Sample T-Test)\n",
    "# Compare mean of group a to mean of group b."
   ]
  },
  {
   "cell_type": "markdown",
   "id": "e05f84c2",
   "metadata": {},
   "source": [
    "# is the the price of gas higher in texas or in new mexico?"
   ]
  },
  {
   "cell_type": "code",
   "execution_count": null,
   "id": "fe05f726",
   "metadata": {},
   "outputs": [],
   "source": [
    "# independent T-Test (a.k.a. Two Sample T-Test)\n",
    "# Compare mean of group a to mean of group b."
   ]
  },
  {
   "cell_type": "markdown",
   "id": "f99b8b86",
   "metadata": {},
   "source": [
    "# Are there differences in stress levels between students who take data science vs students who take web development vs students who take cloud academy?"
   ]
  },
  {
   "cell_type": "code",
   "execution_count": null,
   "id": "153976fb",
   "metadata": {},
   "outputs": [],
   "source": [
    "# ANOVA Analysis of Variance\n",
    "# Goal: Compare means of groups a, b & c."
   ]
  },
  {
   "cell_type": "markdown",
   "id": "9ae9fa02",
   "metadata": {},
   "source": [
    "# # 2 Ace Realty wants to determine whether the average time it takes to sell homes is different for its two offices. A sample of 40 sales from office #1 revealed a mean of 90 days and a standard deviation of 15 days. A sample of 50 sales from office #2 revealed a mean of 100 days and a standard deviation of 20 days. Use a .05 level of significance."
   ]
  },
  {
   "cell_type": "code",
   "execution_count": 212,
   "id": "ab3a0a7e",
   "metadata": {},
   "outputs": [],
   "source": [
    "# independent T-Test (a.k.a. Two Sample T-Test)\n",
    "# null = there is no difference in the time it takes to sell between offices\n",
    "# alt =  there is some difference in the time it takes to sell between offices\n",
    "\n",
    "alpha = 0.05\n"
   ]
  },
  {
   "cell_type": "code",
   "execution_count": null,
   "id": "add2e719",
   "metadata": {},
   "outputs": [],
   "source": [
    "x = np.arange(50,150)\n",
    "\n",
    "y1 = stats.norm(90,15).pdf(x)\n",
    "y2 = stats.norm(100,20).pdf(x)\n",
    "\n"
   ]
  },
  {
   "cell_type": "code",
   "execution_count": 222,
   "id": "f0e452a0",
   "metadata": {},
   "outputs": [
    {
     "data": {
      "text/plain": [
       "7.85065314722983e-05"
      ]
     },
     "execution_count": 222,
     "metadata": {},
     "output_type": "execute_result"
    }
   ],
   "source": [
    "# office 1 \n",
    "x = np.arange(40,200)\n",
    "\n",
    "mean = 90\n",
    "std = 15\n",
    "\n",
    "office1 = stats.norm(mean,std).pdf(x)\n",
    "office1.var()"
   ]
  },
  {
   "cell_type": "code",
   "execution_count": 221,
   "id": "b28cbe87",
   "metadata": {},
   "outputs": [
    {
     "data": {
      "text/plain": [
       "4.918828084260567e-05"
      ]
     },
     "execution_count": 221,
     "metadata": {},
     "output_type": "execute_result"
    }
   ],
   "source": [
    "\n",
    "mean2 = 100\n",
    "std2 = 20\n",
    "\n",
    "office2 = stats.norm(mean2,std2).pdf(x)\n",
    "office2.var()"
   ]
  },
  {
   "cell_type": "code",
   "execution_count": 223,
   "id": "19b1a762",
   "metadata": {},
   "outputs": [
    {
     "data": {
      "text/plain": [
       "(0.006016207193498233, 0.49760188062444605)"
      ]
     },
     "execution_count": 223,
     "metadata": {},
     "output_type": "execute_result"
    }
   ],
   "source": [
    "t, p = stats.ttest_ind(office1, office2, equal_var=False)\n",
    "t, p / 2"
   ]
  },
  {
   "cell_type": "code",
   "execution_count": 224,
   "id": "7812a281",
   "metadata": {},
   "outputs": [
    {
     "name": "stdout",
     "output_type": "stream",
     "text": [
      "is p/2 < alpha?  False\n",
      "is t > 0?  True\n"
     ]
    }
   ],
   "source": [
    "print(\"is p/2 < alpha? \", p / 2 < alpha)\n",
    "print(\"is t > 0? \", t > 0)"
   ]
  },
  {
   "cell_type": "code",
   "execution_count": 225,
   "id": "ac49d042",
   "metadata": {},
   "outputs": [
    {
     "name": "stdout",
     "output_type": "stream",
     "text": [
      "We fail to reject $H_{0}$\n"
     ]
    }
   ],
   "source": [
    "if p / 2 > alpha:\n",
    "    print(\"We fail to reject $H_{0}$\")\n",
    "elif t < 0:\n",
    "    print(\"We fail to reject $H_{0}$\")\n",
    "else:\n",
    "    print(\"We reject $H_{0}$\")"
   ]
  },
  {
   "cell_type": "code",
   "execution_count": 228,
   "id": "25d0f77e",
   "metadata": {},
   "outputs": [
    {
     "data": {
      "text/plain": [
       "[<matplotlib.lines.Line2D at 0x7f7852809bb0>]"
      ]
     },
     "execution_count": 228,
     "metadata": {},
     "output_type": "execute_result"
    },
    {
     "data": {
      "image/png": "[encoded data removed]",
      "text/plain": [
       "<Figure size 640x480 with 1 Axes>"
      ]
     },
     "metadata": {},
     "output_type": "display_data"
    }
   ],
   "source": [
    "\n",
    "plt.plot(x, office1)\n",
    "plt.plot(x, office2)\n"
   ]
  },
  {
   "cell_type": "markdown",
   "id": "fffb9d7d",
   "metadata": {},
   "source": [
    "# 3 Load the mpg dataset and use it to answer the following questions:"
   ]
  },
  {
   "cell_type": "code",
   "execution_count": 6,
   "id": "95a79db0",
   "metadata": {},
   "outputs": [],
   "source": [
    "mpg = data('mpg')"
   ]
  },
  {
   "cell_type": "markdown",
   "id": "ecd2276b",
   "metadata": {},
   "source": [
    "# Is there a difference in fuel-efficiency in cars from 2008 vs 1999?"
   ]
  },
  {
   "cell_type": "code",
   "execution_count": null,
   "id": "56fcbf80",
   "metadata": {},
   "outputs": [],
   "source": [
    "# Ho = \" there is no difference in fuel- eff from cars in 2008 vs 1999\"\n",
    "# Ha = \" there is a difference in fuel-eff from cars in 2008 vs 1999\""
   ]
  },
  {
   "cell_type": "code",
   "execution_count": 40,
   "id": "2c18fc89",
   "metadata": {},
   "outputs": [],
   "source": [
    "alpha = .05"
   ]
  },
  {
   "cell_type": "code",
   "execution_count": 234,
   "id": "1a45b0c8",
   "metadata": {},
   "outputs": [],
   "source": [
    "mpg['ovr_all'] = stats.hmean(mpg[['hwy','cty']],axis =1)"
   ]
  },
  {
   "cell_type": "code",
   "execution_count": 232,
   "id": "82b57ecd",
   "metadata": {},
   "outputs": [
    {
     "data": {
      "text/html": [
       "<div>\n",
       "<style scoped>\n",
       "    .dataframe tbody tr th:only-of-type {\n",
       "        vertical-align: middle;\n",
       "    }\n",
       "\n",
       "    .dataframe tbody tr th {\n",
       "        vertical-align: top;\n",
       "    }\n",
       "\n",
       "    .dataframe thead th {\n",
       "        text-align: right;\n",
       "    }\n",
       "</style>\n",
       "<table border=\"1\" class=\"dataframe\">\n",
       "  <thead>\n",
       "    <tr style=\"text-align: right;\">\n",
       "      <th></th>\n",
       "      <th>manufacturer</th>\n",
       "      <th>model</th>\n",
       "      <th>displ</th>\n",
       "      <th>year</th>\n",
       "      <th>cyl</th>\n",
       "      <th>trans</th>\n",
       "      <th>drv</th>\n",
       "      <th>cty</th>\n",
       "      <th>hwy</th>\n",
       "      <th>fl</th>\n",
       "      <th>class</th>\n",
       "      <th>ovr_all</th>\n",
       "      <th>compact</th>\n",
       "      <th>is_auto</th>\n",
       "    </tr>\n",
       "  </thead>\n",
       "  <tbody>\n",
       "    <tr>\n",
       "      <th>1</th>\n",
       "      <td>audi</td>\n",
       "      <td>a4</td>\n",
       "      <td>1.8</td>\n",
       "      <td>1999</td>\n",
       "      <td>4</td>\n",
       "      <td>auto(l5)</td>\n",
       "      <td>f</td>\n",
       "      <td>18</td>\n",
       "      <td>29</td>\n",
       "      <td>p</td>\n",
       "      <td>compact</td>\n",
       "      <td>22.212766</td>\n",
       "      <td>True</td>\n",
       "      <td>True</td>\n",
       "    </tr>\n",
       "    <tr>\n",
       "      <th>2</th>\n",
       "      <td>audi</td>\n",
       "      <td>a4</td>\n",
       "      <td>1.8</td>\n",
       "      <td>1999</td>\n",
       "      <td>4</td>\n",
       "      <td>manual(m5)</td>\n",
       "      <td>f</td>\n",
       "      <td>21</td>\n",
       "      <td>29</td>\n",
       "      <td>p</td>\n",
       "      <td>compact</td>\n",
       "      <td>24.360000</td>\n",
       "      <td>True</td>\n",
       "      <td>False</td>\n",
       "    </tr>\n",
       "    <tr>\n",
       "      <th>3</th>\n",
       "      <td>audi</td>\n",
       "      <td>a4</td>\n",
       "      <td>2.0</td>\n",
       "      <td>2008</td>\n",
       "      <td>4</td>\n",
       "      <td>manual(m6)</td>\n",
       "      <td>f</td>\n",
       "      <td>20</td>\n",
       "      <td>31</td>\n",
       "      <td>p</td>\n",
       "      <td>compact</td>\n",
       "      <td>24.313725</td>\n",
       "      <td>True</td>\n",
       "      <td>False</td>\n",
       "    </tr>\n",
       "    <tr>\n",
       "      <th>4</th>\n",
       "      <td>audi</td>\n",
       "      <td>a4</td>\n",
       "      <td>2.0</td>\n",
       "      <td>2008</td>\n",
       "      <td>4</td>\n",
       "      <td>auto(av)</td>\n",
       "      <td>f</td>\n",
       "      <td>21</td>\n",
       "      <td>30</td>\n",
       "      <td>p</td>\n",
       "      <td>compact</td>\n",
       "      <td>24.705882</td>\n",
       "      <td>True</td>\n",
       "      <td>True</td>\n",
       "    </tr>\n",
       "    <tr>\n",
       "      <th>5</th>\n",
       "      <td>audi</td>\n",
       "      <td>a4</td>\n",
       "      <td>2.8</td>\n",
       "      <td>1999</td>\n",
       "      <td>6</td>\n",
       "      <td>auto(l5)</td>\n",
       "      <td>f</td>\n",
       "      <td>16</td>\n",
       "      <td>26</td>\n",
       "      <td>p</td>\n",
       "      <td>compact</td>\n",
       "      <td>19.809524</td>\n",
       "      <td>True</td>\n",
       "      <td>True</td>\n",
       "    </tr>\n",
       "  </tbody>\n",
       "</table>\n",
       "</div>"
      ],
      "text/plain": [
       "  manufacturer model  displ  year  cyl       trans drv  cty  hwy fl    class  \\\n",
       "1         audi    a4    1.8  1999    4    auto(l5)   f   18   29  p  compact   \n",
       "2         audi    a4    1.8  1999    4  manual(m5)   f   21   29  p  compact   \n",
       "3         audi    a4    2.0  2008    4  manual(m6)   f   20   31  p  compact   \n",
       "4         audi    a4    2.0  2008    4    auto(av)   f   21   30  p  compact   \n",
       "5         audi    a4    2.8  1999    6    auto(l5)   f   16   26  p  compact   \n",
       "\n",
       "     ovr_all  compact  is_auto  \n",
       "1  22.212766     True     True  \n",
       "2  24.360000     True    False  \n",
       "3  24.313725     True    False  \n",
       "4  24.705882     True     True  \n",
       "5  19.809524     True     True  "
      ]
     },
     "execution_count": 232,
     "metadata": {},
     "output_type": "execute_result"
    }
   ],
   "source": [
    "mpg.head()"
   ]
  },
  {
   "cell_type": "code",
   "execution_count": 235,
   "id": "ee7bf829",
   "metadata": {},
   "outputs": [],
   "source": [
    "mpg_08 = mpg[mpg['year'] == 2008]['ovr_all']\n"
   ]
  },
  {
   "cell_type": "code",
   "execution_count": 236,
   "id": "27426210",
   "metadata": {},
   "outputs": [
    {
     "data": {
      "text/plain": [
       "117"
      ]
     },
     "execution_count": 236,
     "metadata": {},
     "output_type": "execute_result"
    }
   ],
   "source": [
    "mpg_08.count()"
   ]
  },
  {
   "cell_type": "code",
   "execution_count": 237,
   "id": "9ebf02ad",
   "metadata": {},
   "outputs": [
    {
     "data": {
      "text/plain": [
       "22.550836772260343"
      ]
     },
     "execution_count": 237,
     "metadata": {},
     "output_type": "execute_result"
    }
   ],
   "source": [
    "mpg_08.var()"
   ]
  },
  {
   "cell_type": "code",
   "execution_count": 238,
   "id": "e6fbd826",
   "metadata": {},
   "outputs": [
    {
     "data": {
      "text/plain": [
       "<AxesSubplot:>"
      ]
     },
     "execution_count": 238,
     "metadata": {},
     "output_type": "execute_result"
    },
    {
     "data": {
      "image/png": "[encoded data removed]",
      "text/plain": [
       "<Figure size 640x480 with 1 Axes>"
      ]
     },
     "metadata": {},
     "output_type": "display_data"
    }
   ],
   "source": [
    "mpg_08.hist()"
   ]
  },
  {
   "cell_type": "code",
   "execution_count": 239,
   "id": "c7e1e70e",
   "metadata": {},
   "outputs": [],
   "source": [
    "mpg_1999 = mpg[mpg['year'] == 1999]['ovr_all']"
   ]
  },
  {
   "cell_type": "code",
   "execution_count": 240,
   "id": "5596276a",
   "metadata": {},
   "outputs": [
    {
     "data": {
      "text/plain": [
       "117"
      ]
     },
     "execution_count": 240,
     "metadata": {},
     "output_type": "execute_result"
    }
   ],
   "source": [
    "mpg_1999.count()"
   ]
  },
  {
   "cell_type": "code",
   "execution_count": 241,
   "id": "cbf836a1",
   "metadata": {},
   "outputs": [
    {
     "data": {
      "text/plain": [
       "25.850396545865912"
      ]
     },
     "execution_count": 241,
     "metadata": {},
     "output_type": "execute_result"
    }
   ],
   "source": [
    "mpg_1999.var()"
   ]
  },
  {
   "cell_type": "code",
   "execution_count": 242,
   "id": "4a3ec7d6",
   "metadata": {},
   "outputs": [
    {
     "data": {
      "text/plain": [
       "<AxesSubplot:>"
      ]
     },
     "execution_count": 242,
     "metadata": {},
     "output_type": "execute_result"
    },
    {
     "data": {
      "image/png": "[encoded data removed]",
      "text/plain": [
       "<Figure size 640x480 with 1 Axes>"
      ]
     },
     "metadata": {},
     "output_type": "display_data"
    }
   ],
   "source": [
    "mpg_1999.hist()"
   ]
  },
  {
   "cell_type": "code",
   "execution_count": 243,
   "id": "00d65637",
   "metadata": {},
   "outputs": [
    {
     "data": {
      "text/plain": [
       "(-0.3011962975077886, 0.3817679209112718)"
      ]
     },
     "execution_count": 243,
     "metadata": {},
     "output_type": "execute_result"
    }
   ],
   "source": [
    "t, p = stats.ttest_ind(mpg_08, mpg_1999, equal_var=False)\n",
    "t, p / 2"
   ]
  },
  {
   "cell_type": "code",
   "execution_count": 244,
   "id": "b270c3e6",
   "metadata": {
    "scrolled": true
   },
   "outputs": [
    {
     "name": "stdout",
     "output_type": "stream",
     "text": [
      "is p/2 < alpha?  False\n",
      "is t > 0?  False\n"
     ]
    }
   ],
   "source": [
    "print(\"is p/2 < alpha? \", p / 2 < alpha)\n",
    "print(\"is t > 0? \", t > 0)"
   ]
  },
  {
   "cell_type": "code",
   "execution_count": 245,
   "id": "6a600d21",
   "metadata": {},
   "outputs": [
    {
     "name": "stdout",
     "output_type": "stream",
     "text": [
      "We fail to reject $H_{0}$\n"
     ]
    }
   ],
   "source": [
    "if p / 2 > alpha:\n",
    "    print(\"We fail to reject $H_{0}$\")\n",
    "elif t < 0:\n",
    "    print(\"We fail to reject $H_{0}$\")\n",
    "else:\n",
    "    print(\"We reject $H_{0}$\")\n"
   ]
  },
  {
   "cell_type": "code",
   "execution_count": 246,
   "id": "1f2afe00",
   "metadata": {},
   "outputs": [],
   "source": [
    "# there is no noticeable  difference."
   ]
  },
  {
   "cell_type": "markdown",
   "id": "ab7bf61a",
   "metadata": {},
   "source": [
    "# Are compact cars more fuel-efficient than the average car?"
   ]
  },
  {
   "cell_type": "code",
   "execution_count": null,
   "id": "88a7d5b6",
   "metadata": {},
   "outputs": [],
   "source": [
    "# compact cars gas < avg car\n",
    "# one sample of all cars"
   ]
  },
  {
   "cell_type": "code",
   "execution_count": 247,
   "id": "bce24fd5",
   "metadata": {},
   "outputs": [
    {
     "data": {
      "text/html": [
       "<div>\n",
       "<style scoped>\n",
       "    .dataframe tbody tr th:only-of-type {\n",
       "        vertical-align: middle;\n",
       "    }\n",
       "\n",
       "    .dataframe tbody tr th {\n",
       "        vertical-align: top;\n",
       "    }\n",
       "\n",
       "    .dataframe thead th {\n",
       "        text-align: right;\n",
       "    }\n",
       "</style>\n",
       "<table border=\"1\" class=\"dataframe\">\n",
       "  <thead>\n",
       "    <tr style=\"text-align: right;\">\n",
       "      <th></th>\n",
       "      <th>manufacturer</th>\n",
       "      <th>model</th>\n",
       "      <th>displ</th>\n",
       "      <th>year</th>\n",
       "      <th>cyl</th>\n",
       "      <th>trans</th>\n",
       "      <th>drv</th>\n",
       "      <th>cty</th>\n",
       "      <th>hwy</th>\n",
       "      <th>fl</th>\n",
       "      <th>class</th>\n",
       "      <th>ovr_all</th>\n",
       "      <th>compact</th>\n",
       "      <th>is_auto</th>\n",
       "    </tr>\n",
       "  </thead>\n",
       "  <tbody>\n",
       "    <tr>\n",
       "      <th>1</th>\n",
       "      <td>audi</td>\n",
       "      <td>a4</td>\n",
       "      <td>1.8</td>\n",
       "      <td>1999</td>\n",
       "      <td>4</td>\n",
       "      <td>auto(l5)</td>\n",
       "      <td>f</td>\n",
       "      <td>18</td>\n",
       "      <td>29</td>\n",
       "      <td>p</td>\n",
       "      <td>compact</td>\n",
       "      <td>22.212766</td>\n",
       "      <td>True</td>\n",
       "      <td>True</td>\n",
       "    </tr>\n",
       "    <tr>\n",
       "      <th>2</th>\n",
       "      <td>audi</td>\n",
       "      <td>a4</td>\n",
       "      <td>1.8</td>\n",
       "      <td>1999</td>\n",
       "      <td>4</td>\n",
       "      <td>manual(m5)</td>\n",
       "      <td>f</td>\n",
       "      <td>21</td>\n",
       "      <td>29</td>\n",
       "      <td>p</td>\n",
       "      <td>compact</td>\n",
       "      <td>24.360000</td>\n",
       "      <td>True</td>\n",
       "      <td>False</td>\n",
       "    </tr>\n",
       "    <tr>\n",
       "      <th>3</th>\n",
       "      <td>audi</td>\n",
       "      <td>a4</td>\n",
       "      <td>2.0</td>\n",
       "      <td>2008</td>\n",
       "      <td>4</td>\n",
       "      <td>manual(m6)</td>\n",
       "      <td>f</td>\n",
       "      <td>20</td>\n",
       "      <td>31</td>\n",
       "      <td>p</td>\n",
       "      <td>compact</td>\n",
       "      <td>24.313725</td>\n",
       "      <td>True</td>\n",
       "      <td>False</td>\n",
       "    </tr>\n",
       "    <tr>\n",
       "      <th>4</th>\n",
       "      <td>audi</td>\n",
       "      <td>a4</td>\n",
       "      <td>2.0</td>\n",
       "      <td>2008</td>\n",
       "      <td>4</td>\n",
       "      <td>auto(av)</td>\n",
       "      <td>f</td>\n",
       "      <td>21</td>\n",
       "      <td>30</td>\n",
       "      <td>p</td>\n",
       "      <td>compact</td>\n",
       "      <td>24.705882</td>\n",
       "      <td>True</td>\n",
       "      <td>True</td>\n",
       "    </tr>\n",
       "    <tr>\n",
       "      <th>5</th>\n",
       "      <td>audi</td>\n",
       "      <td>a4</td>\n",
       "      <td>2.8</td>\n",
       "      <td>1999</td>\n",
       "      <td>6</td>\n",
       "      <td>auto(l5)</td>\n",
       "      <td>f</td>\n",
       "      <td>16</td>\n",
       "      <td>26</td>\n",
       "      <td>p</td>\n",
       "      <td>compact</td>\n",
       "      <td>19.809524</td>\n",
       "      <td>True</td>\n",
       "      <td>True</td>\n",
       "    </tr>\n",
       "  </tbody>\n",
       "</table>\n",
       "</div>"
      ],
      "text/plain": [
       "  manufacturer model  displ  year  cyl       trans drv  cty  hwy fl    class  \\\n",
       "1         audi    a4    1.8  1999    4    auto(l5)   f   18   29  p  compact   \n",
       "2         audi    a4    1.8  1999    4  manual(m5)   f   21   29  p  compact   \n",
       "3         audi    a4    2.0  2008    4  manual(m6)   f   20   31  p  compact   \n",
       "4         audi    a4    2.0  2008    4    auto(av)   f   21   30  p  compact   \n",
       "5         audi    a4    2.8  1999    6    auto(l5)   f   16   26  p  compact   \n",
       "\n",
       "     ovr_all  compact  is_auto  \n",
       "1  22.212766     True     True  \n",
       "2  24.360000     True    False  \n",
       "3  24.313725     True    False  \n",
       "4  24.705882     True     True  \n",
       "5  19.809524     True     True  "
      ]
     },
     "execution_count": 247,
     "metadata": {},
     "output_type": "execute_result"
    }
   ],
   "source": [
    "mpg.head()"
   ]
  },
  {
   "cell_type": "code",
   "execution_count": 248,
   "id": "56fb01cb",
   "metadata": {},
   "outputs": [
    {
     "data": {
      "text/plain": [
       "manufacturer    47\n",
       "model           47\n",
       "displ           47\n",
       "year            47\n",
       "cyl             47\n",
       "trans           47\n",
       "drv             47\n",
       "cty             47\n",
       "hwy             47\n",
       "fl              47\n",
       "class           47\n",
       "ovr_all         47\n",
       "compact         47\n",
       "is_auto         47\n",
       "dtype: int64"
      ]
     },
     "execution_count": 248,
     "metadata": {},
     "output_type": "execute_result"
    }
   ],
   "source": [
    "mpg['compact'] = mpg['class'] == 'compact'\n",
    "mpg[mpg['compact']].count()"
   ]
  },
  {
   "cell_type": "code",
   "execution_count": 249,
   "id": "02cf739e",
   "metadata": {},
   "outputs": [],
   "source": [
    "compact_mpg_sample = mpg[mpg.compact == True ].ovr_all\n",
    "\n",
    "#churn_sample = df[df.churn == 'Yes'].monthly_charges"
   ]
  },
  {
   "cell_type": "code",
   "execution_count": 250,
   "id": "48598cfa",
   "metadata": {},
   "outputs": [
    {
     "data": {
      "text/html": [
       "<div>\n",
       "<style scoped>\n",
       "    .dataframe tbody tr th:only-of-type {\n",
       "        vertical-align: middle;\n",
       "    }\n",
       "\n",
       "    .dataframe tbody tr th {\n",
       "        vertical-align: top;\n",
       "    }\n",
       "\n",
       "    .dataframe thead th {\n",
       "        text-align: right;\n",
       "    }\n",
       "</style>\n",
       "<table border=\"1\" class=\"dataframe\">\n",
       "  <thead>\n",
       "    <tr style=\"text-align: right;\">\n",
       "      <th></th>\n",
       "      <th>ovr_all</th>\n",
       "    </tr>\n",
       "  </thead>\n",
       "  <tbody>\n",
       "    <tr>\n",
       "      <th>1</th>\n",
       "      <td>22.212766</td>\n",
       "    </tr>\n",
       "    <tr>\n",
       "      <th>2</th>\n",
       "      <td>24.360000</td>\n",
       "    </tr>\n",
       "    <tr>\n",
       "      <th>3</th>\n",
       "      <td>24.313725</td>\n",
       "    </tr>\n",
       "    <tr>\n",
       "      <th>4</th>\n",
       "      <td>24.705882</td>\n",
       "    </tr>\n",
       "    <tr>\n",
       "      <th>5</th>\n",
       "      <td>19.809524</td>\n",
       "    </tr>\n",
       "    <tr>\n",
       "      <th>6</th>\n",
       "      <td>21.272727</td>\n",
       "    </tr>\n",
       "    <tr>\n",
       "      <th>7</th>\n",
       "      <td>21.600000</td>\n",
       "    </tr>\n",
       "    <tr>\n",
       "      <th>8</th>\n",
       "      <td>21.272727</td>\n",
       "    </tr>\n",
       "    <tr>\n",
       "      <th>9</th>\n",
       "      <td>19.512195</td>\n",
       "    </tr>\n",
       "    <tr>\n",
       "      <th>10</th>\n",
       "      <td>23.333333</td>\n",
       "    </tr>\n",
       "    <tr>\n",
       "      <th>11</th>\n",
       "      <td>22.304348</td>\n",
       "    </tr>\n",
       "    <tr>\n",
       "      <th>12</th>\n",
       "      <td>18.750000</td>\n",
       "    </tr>\n",
       "    <tr>\n",
       "      <th>13</th>\n",
       "      <td>20.238095</td>\n",
       "    </tr>\n",
       "    <tr>\n",
       "      <th>14</th>\n",
       "      <td>20.238095</td>\n",
       "    </tr>\n",
       "    <tr>\n",
       "      <th>15</th>\n",
       "      <td>18.750000</td>\n",
       "    </tr>\n",
       "    <tr>\n",
       "      <th>142</th>\n",
       "      <td>24.360000</td>\n",
       "    </tr>\n",
       "    <tr>\n",
       "      <th>143</th>\n",
       "      <td>22.304348</td>\n",
       "    </tr>\n",
       "    <tr>\n",
       "      <th>170</th>\n",
       "      <td>22.222222</td>\n",
       "    </tr>\n",
       "    <tr>\n",
       "      <th>171</th>\n",
       "      <td>22.978723</td>\n",
       "    </tr>\n",
       "    <tr>\n",
       "      <th>172</th>\n",
       "      <td>21.590909</td>\n",
       "    </tr>\n",
       "    <tr>\n",
       "      <th>173</th>\n",
       "      <td>22.978723</td>\n",
       "    </tr>\n",
       "    <tr>\n",
       "      <th>187</th>\n",
       "      <td>23.625000</td>\n",
       "    </tr>\n",
       "    <tr>\n",
       "      <th>188</th>\n",
       "      <td>24.360000</td>\n",
       "    </tr>\n",
       "    <tr>\n",
       "      <th>189</th>\n",
       "      <td>25.038462</td>\n",
       "    </tr>\n",
       "    <tr>\n",
       "      <th>190</th>\n",
       "      <td>25.735849</td>\n",
       "    </tr>\n",
       "    <tr>\n",
       "      <th>191</th>\n",
       "      <td>21.272727</td>\n",
       "    </tr>\n",
       "    <tr>\n",
       "      <th>192</th>\n",
       "      <td>21.272727</td>\n",
       "    </tr>\n",
       "    <tr>\n",
       "      <th>193</th>\n",
       "      <td>21.600000</td>\n",
       "    </tr>\n",
       "    <tr>\n",
       "      <th>194</th>\n",
       "      <td>26.666667</td>\n",
       "    </tr>\n",
       "    <tr>\n",
       "      <th>195</th>\n",
       "      <td>27.789474</td>\n",
       "    </tr>\n",
       "    <tr>\n",
       "      <th>196</th>\n",
       "      <td>29.836066</td>\n",
       "    </tr>\n",
       "    <tr>\n",
       "      <th>197</th>\n",
       "      <td>31.876923</td>\n",
       "    </tr>\n",
       "    <tr>\n",
       "      <th>198</th>\n",
       "      <td>29.836066</td>\n",
       "    </tr>\n",
       "    <tr>\n",
       "      <th>208</th>\n",
       "      <td>24.360000</td>\n",
       "    </tr>\n",
       "    <tr>\n",
       "      <th>209</th>\n",
       "      <td>21.955556</td>\n",
       "    </tr>\n",
       "    <tr>\n",
       "      <th>210</th>\n",
       "      <td>24.360000</td>\n",
       "    </tr>\n",
       "    <tr>\n",
       "      <th>211</th>\n",
       "      <td>25.019608</td>\n",
       "    </tr>\n",
       "    <tr>\n",
       "      <th>212</th>\n",
       "      <td>19.902439</td>\n",
       "    </tr>\n",
       "    <tr>\n",
       "      <th>213</th>\n",
       "      <td>37.714286</td>\n",
       "    </tr>\n",
       "    <tr>\n",
       "      <th>214</th>\n",
       "      <td>24.360000</td>\n",
       "    </tr>\n",
       "    <tr>\n",
       "      <th>215</th>\n",
       "      <td>21.955556</td>\n",
       "    </tr>\n",
       "    <tr>\n",
       "      <th>216</th>\n",
       "      <td>25.019608</td>\n",
       "    </tr>\n",
       "    <tr>\n",
       "      <th>217</th>\n",
       "      <td>24.360000</td>\n",
       "    </tr>\n",
       "    <tr>\n",
       "      <th>218</th>\n",
       "      <td>24.360000</td>\n",
       "    </tr>\n",
       "    <tr>\n",
       "      <th>219</th>\n",
       "      <td>24.360000</td>\n",
       "    </tr>\n",
       "    <tr>\n",
       "      <th>220</th>\n",
       "      <td>18.871795</td>\n",
       "    </tr>\n",
       "    <tr>\n",
       "      <th>221</th>\n",
       "      <td>19.902439</td>\n",
       "    </tr>\n",
       "  </tbody>\n",
       "</table>\n",
       "</div>"
      ],
      "text/plain": [
       "       ovr_all\n",
       "1    22.212766\n",
       "2    24.360000\n",
       "3    24.313725\n",
       "4    24.705882\n",
       "5    19.809524\n",
       "6    21.272727\n",
       "7    21.600000\n",
       "8    21.272727\n",
       "9    19.512195\n",
       "10   23.333333\n",
       "11   22.304348\n",
       "12   18.750000\n",
       "13   20.238095\n",
       "14   20.238095\n",
       "15   18.750000\n",
       "142  24.360000\n",
       "143  22.304348\n",
       "170  22.222222\n",
       "171  22.978723\n",
       "172  21.590909\n",
       "173  22.978723\n",
       "187  23.625000\n",
       "188  24.360000\n",
       "189  25.038462\n",
       "190  25.735849\n",
       "191  21.272727\n",
       "192  21.272727\n",
       "193  21.600000\n",
       "194  26.666667\n",
       "195  27.789474\n",
       "196  29.836066\n",
       "197  31.876923\n",
       "198  29.836066\n",
       "208  24.360000\n",
       "209  21.955556\n",
       "210  24.360000\n",
       "211  25.019608\n",
       "212  19.902439\n",
       "213  37.714286\n",
       "214  24.360000\n",
       "215  21.955556\n",
       "216  25.019608\n",
       "217  24.360000\n",
       "218  24.360000\n",
       "219  24.360000\n",
       "220  18.871795\n",
       "221  19.902439"
      ]
     },
     "execution_count": 250,
     "metadata": {},
     "output_type": "execute_result"
    }
   ],
   "source": [
    "\n",
    "\n",
    "compact_mpg_sample1 = pd.DataFrame(compact_mpg_sample)\n",
    "compact_mpg_sample1"
   ]
  },
  {
   "cell_type": "code",
   "execution_count": 251,
   "id": "9efac84b",
   "metadata": {
    "scrolled": true
   },
   "outputs": [
    {
     "data": {
      "text/plain": [
       "(array([ 9., 13., 14.,  5.,  2.,  2.,  1.,  0.,  0.,  1.]),\n",
       " array([18.75      , 20.64642857, 22.54285714, 24.43928571, 26.33571429,\n",
       "        28.23214286, 30.12857143, 32.025     , 33.92142857, 35.81785714,\n",
       "        37.71428571]),\n",
       " <BarContainer object of 10 artists>)"
      ]
     },
     "execution_count": 251,
     "metadata": {},
     "output_type": "execute_result"
    },
    {
     "data": {
      "image/png": "[encoded data removed]",
      "text/plain": [
       "<Figure size 640x480 with 1 Axes>"
      ]
     },
     "metadata": {},
     "output_type": "display_data"
    }
   ],
   "source": [
    "plt.hist(compact_mpg_sample)"
   ]
  },
  {
   "cell_type": "code",
   "execution_count": 252,
   "id": "d410c0e9",
   "metadata": {},
   "outputs": [
    {
     "data": {
      "text/html": [
       "<div>\n",
       "<style scoped>\n",
       "    .dataframe tbody tr th:only-of-type {\n",
       "        vertical-align: middle;\n",
       "    }\n",
       "\n",
       "    .dataframe tbody tr th {\n",
       "        vertical-align: top;\n",
       "    }\n",
       "\n",
       "    .dataframe thead th {\n",
       "        text-align: right;\n",
       "    }\n",
       "</style>\n",
       "<table border=\"1\" class=\"dataframe\">\n",
       "  <thead>\n",
       "    <tr style=\"text-align: right;\">\n",
       "      <th></th>\n",
       "      <th>manufacturer</th>\n",
       "      <th>model</th>\n",
       "      <th>displ</th>\n",
       "      <th>year</th>\n",
       "      <th>cyl</th>\n",
       "      <th>trans</th>\n",
       "      <th>drv</th>\n",
       "      <th>cty</th>\n",
       "      <th>hwy</th>\n",
       "      <th>fl</th>\n",
       "      <th>class</th>\n",
       "      <th>ovr_all</th>\n",
       "      <th>compact</th>\n",
       "      <th>is_auto</th>\n",
       "    </tr>\n",
       "  </thead>\n",
       "  <tbody>\n",
       "    <tr>\n",
       "      <th>1</th>\n",
       "      <td>audi</td>\n",
       "      <td>a4</td>\n",
       "      <td>1.8</td>\n",
       "      <td>1999</td>\n",
       "      <td>4</td>\n",
       "      <td>auto(l5)</td>\n",
       "      <td>f</td>\n",
       "      <td>18</td>\n",
       "      <td>29</td>\n",
       "      <td>p</td>\n",
       "      <td>compact</td>\n",
       "      <td>22.212766</td>\n",
       "      <td>True</td>\n",
       "      <td>True</td>\n",
       "    </tr>\n",
       "  </tbody>\n",
       "</table>\n",
       "</div>"
      ],
      "text/plain": [
       "  manufacturer model  displ  year  cyl     trans drv  cty  hwy fl    class  \\\n",
       "1         audi    a4    1.8  1999    4  auto(l5)   f   18   29  p  compact   \n",
       "\n",
       "     ovr_all  compact  is_auto  \n",
       "1  22.212766     True     True  "
      ]
     },
     "execution_count": 252,
     "metadata": {},
     "output_type": "execute_result"
    }
   ],
   "source": [
    "mpg.head(1)"
   ]
  },
  {
   "cell_type": "code",
   "execution_count": 253,
   "id": "02904c5b",
   "metadata": {},
   "outputs": [
    {
     "data": {
      "text/plain": [
       "19.585525317633177"
      ]
     },
     "execution_count": 253,
     "metadata": {},
     "output_type": "execute_result"
    }
   ],
   "source": [
    "mean = mpg['ovr_all'].mean()\n",
    "mean\n"
   ]
  },
  {
   "cell_type": "code",
   "execution_count": 257,
   "id": "966b41ed",
   "metadata": {},
   "outputs": [],
   "source": [
    "#churn_sample = df[df.churn == 'Yes'].monthly_charges\n",
    "#overall_mean = df.monthly_charges.mean()\n",
    "\n",
    "#t, p = stats.ttest_1samp(churn_sample, overall_mean)\n",
    "\n",
    "#print(t, p/2, alpha)\n"
   ]
  },
  {
   "cell_type": "code",
   "execution_count": 258,
   "id": "bb85947a",
   "metadata": {},
   "outputs": [
    {
     "data": {
      "text/plain": [
       "(7.512360093161354, 1.5617666348807727e-09)"
      ]
     },
     "execution_count": 258,
     "metadata": {},
     "output_type": "execute_result"
    }
   ],
   "source": [
    "t, p = stats.ttest_1samp(compact_mpg_sample, mean)\n",
    "t , p"
   ]
  },
  {
   "cell_type": "code",
   "execution_count": 259,
   "id": "73dee49b",
   "metadata": {},
   "outputs": [
    {
     "name": "stdout",
     "output_type": "stream",
     "text": [
      "7.512360093161354 7.808833174403864e-10 0.05\n"
     ]
    }
   ],
   "source": [
    "print(t, p/2, alpha)"
   ]
  },
  {
   "cell_type": "code",
   "execution_count": 261,
   "id": "fac8446c",
   "metadata": {},
   "outputs": [
    {
     "name": "stdout",
     "output_type": "stream",
     "text": [
      "We reject $H_{0}$\n"
     ]
    }
   ],
   "source": [
    "if p/2 > alpha:\n",
    "    print(\"We fail to reject $H_{0}$\")\n",
    "elif t < 0:\n",
    "    print(\"We fail to reject $H_{0}$\")\n",
    "else:\n",
    "    print(\"We reject $H_{0}$\")"
   ]
  },
  {
   "cell_type": "markdown",
   "id": "87574950",
   "metadata": {},
   "source": [
    "# Do manual cars get better gas mileage than automatic cars?"
   ]
  },
  {
   "cell_type": "code",
   "execution_count": 262,
   "id": "0e6dedad",
   "metadata": {},
   "outputs": [
    {
     "data": {
      "text/html": [
       "<div>\n",
       "<style scoped>\n",
       "    .dataframe tbody tr th:only-of-type {\n",
       "        vertical-align: middle;\n",
       "    }\n",
       "\n",
       "    .dataframe tbody tr th {\n",
       "        vertical-align: top;\n",
       "    }\n",
       "\n",
       "    .dataframe thead th {\n",
       "        text-align: right;\n",
       "    }\n",
       "</style>\n",
       "<table border=\"1\" class=\"dataframe\">\n",
       "  <thead>\n",
       "    <tr style=\"text-align: right;\">\n",
       "      <th></th>\n",
       "      <th>manufacturer</th>\n",
       "      <th>model</th>\n",
       "      <th>displ</th>\n",
       "      <th>year</th>\n",
       "      <th>cyl</th>\n",
       "      <th>trans</th>\n",
       "      <th>drv</th>\n",
       "      <th>cty</th>\n",
       "      <th>hwy</th>\n",
       "      <th>fl</th>\n",
       "      <th>class</th>\n",
       "      <th>ovr_all</th>\n",
       "      <th>compact</th>\n",
       "      <th>is_auto</th>\n",
       "    </tr>\n",
       "  </thead>\n",
       "  <tbody>\n",
       "    <tr>\n",
       "      <th>1</th>\n",
       "      <td>audi</td>\n",
       "      <td>a4</td>\n",
       "      <td>1.8</td>\n",
       "      <td>1999</td>\n",
       "      <td>4</td>\n",
       "      <td>auto(l5)</td>\n",
       "      <td>f</td>\n",
       "      <td>18</td>\n",
       "      <td>29</td>\n",
       "      <td>p</td>\n",
       "      <td>compact</td>\n",
       "      <td>22.212766</td>\n",
       "      <td>True</td>\n",
       "      <td>True</td>\n",
       "    </tr>\n",
       "    <tr>\n",
       "      <th>2</th>\n",
       "      <td>audi</td>\n",
       "      <td>a4</td>\n",
       "      <td>1.8</td>\n",
       "      <td>1999</td>\n",
       "      <td>4</td>\n",
       "      <td>manual(m5)</td>\n",
       "      <td>f</td>\n",
       "      <td>21</td>\n",
       "      <td>29</td>\n",
       "      <td>p</td>\n",
       "      <td>compact</td>\n",
       "      <td>24.360000</td>\n",
       "      <td>True</td>\n",
       "      <td>False</td>\n",
       "    </tr>\n",
       "    <tr>\n",
       "      <th>3</th>\n",
       "      <td>audi</td>\n",
       "      <td>a4</td>\n",
       "      <td>2.0</td>\n",
       "      <td>2008</td>\n",
       "      <td>4</td>\n",
       "      <td>manual(m6)</td>\n",
       "      <td>f</td>\n",
       "      <td>20</td>\n",
       "      <td>31</td>\n",
       "      <td>p</td>\n",
       "      <td>compact</td>\n",
       "      <td>24.313725</td>\n",
       "      <td>True</td>\n",
       "      <td>False</td>\n",
       "    </tr>\n",
       "    <tr>\n",
       "      <th>4</th>\n",
       "      <td>audi</td>\n",
       "      <td>a4</td>\n",
       "      <td>2.0</td>\n",
       "      <td>2008</td>\n",
       "      <td>4</td>\n",
       "      <td>auto(av)</td>\n",
       "      <td>f</td>\n",
       "      <td>21</td>\n",
       "      <td>30</td>\n",
       "      <td>p</td>\n",
       "      <td>compact</td>\n",
       "      <td>24.705882</td>\n",
       "      <td>True</td>\n",
       "      <td>True</td>\n",
       "    </tr>\n",
       "    <tr>\n",
       "      <th>5</th>\n",
       "      <td>audi</td>\n",
       "      <td>a4</td>\n",
       "      <td>2.8</td>\n",
       "      <td>1999</td>\n",
       "      <td>6</td>\n",
       "      <td>auto(l5)</td>\n",
       "      <td>f</td>\n",
       "      <td>16</td>\n",
       "      <td>26</td>\n",
       "      <td>p</td>\n",
       "      <td>compact</td>\n",
       "      <td>19.809524</td>\n",
       "      <td>True</td>\n",
       "      <td>True</td>\n",
       "    </tr>\n",
       "  </tbody>\n",
       "</table>\n",
       "</div>"
      ],
      "text/plain": [
       "  manufacturer model  displ  year  cyl       trans drv  cty  hwy fl    class  \\\n",
       "1         audi    a4    1.8  1999    4    auto(l5)   f   18   29  p  compact   \n",
       "2         audi    a4    1.8  1999    4  manual(m5)   f   21   29  p  compact   \n",
       "3         audi    a4    2.0  2008    4  manual(m6)   f   20   31  p  compact   \n",
       "4         audi    a4    2.0  2008    4    auto(av)   f   21   30  p  compact   \n",
       "5         audi    a4    2.8  1999    6    auto(l5)   f   16   26  p  compact   \n",
       "\n",
       "     ovr_all  compact  is_auto  \n",
       "1  22.212766     True     True  \n",
       "2  24.360000     True    False  \n",
       "3  24.313725     True    False  \n",
       "4  24.705882     True     True  \n",
       "5  19.809524     True     True  "
      ]
     },
     "execution_count": 262,
     "metadata": {},
     "output_type": "execute_result"
    }
   ],
   "source": [
    "mpg.head()"
   ]
  },
  {
   "cell_type": "code",
   "execution_count": 263,
   "id": "1700135f",
   "metadata": {},
   "outputs": [
    {
     "data": {
      "text/html": [
       "<div>\n",
       "<style scoped>\n",
       "    .dataframe tbody tr th:only-of-type {\n",
       "        vertical-align: middle;\n",
       "    }\n",
       "\n",
       "    .dataframe tbody tr th {\n",
       "        vertical-align: top;\n",
       "    }\n",
       "\n",
       "    .dataframe thead th {\n",
       "        text-align: right;\n",
       "    }\n",
       "</style>\n",
       "<table border=\"1\" class=\"dataframe\">\n",
       "  <thead>\n",
       "    <tr style=\"text-align: right;\">\n",
       "      <th></th>\n",
       "      <th>manufacturer</th>\n",
       "      <th>model</th>\n",
       "      <th>displ</th>\n",
       "      <th>year</th>\n",
       "      <th>cyl</th>\n",
       "      <th>trans</th>\n",
       "      <th>drv</th>\n",
       "      <th>cty</th>\n",
       "      <th>hwy</th>\n",
       "      <th>fl</th>\n",
       "      <th>class</th>\n",
       "      <th>ovr_all</th>\n",
       "      <th>compact</th>\n",
       "      <th>is_auto</th>\n",
       "    </tr>\n",
       "  </thead>\n",
       "  <tbody>\n",
       "    <tr>\n",
       "      <th>1</th>\n",
       "      <td>audi</td>\n",
       "      <td>a4</td>\n",
       "      <td>1.8</td>\n",
       "      <td>1999</td>\n",
       "      <td>4</td>\n",
       "      <td>auto(l5)</td>\n",
       "      <td>f</td>\n",
       "      <td>18</td>\n",
       "      <td>29</td>\n",
       "      <td>p</td>\n",
       "      <td>compact</td>\n",
       "      <td>22.212766</td>\n",
       "      <td>True</td>\n",
       "      <td>True</td>\n",
       "    </tr>\n",
       "    <tr>\n",
       "      <th>2</th>\n",
       "      <td>audi</td>\n",
       "      <td>a4</td>\n",
       "      <td>1.8</td>\n",
       "      <td>1999</td>\n",
       "      <td>4</td>\n",
       "      <td>manual(m5)</td>\n",
       "      <td>f</td>\n",
       "      <td>21</td>\n",
       "      <td>29</td>\n",
       "      <td>p</td>\n",
       "      <td>compact</td>\n",
       "      <td>24.360000</td>\n",
       "      <td>True</td>\n",
       "      <td>False</td>\n",
       "    </tr>\n",
       "    <tr>\n",
       "      <th>3</th>\n",
       "      <td>audi</td>\n",
       "      <td>a4</td>\n",
       "      <td>2.0</td>\n",
       "      <td>2008</td>\n",
       "      <td>4</td>\n",
       "      <td>manual(m6)</td>\n",
       "      <td>f</td>\n",
       "      <td>20</td>\n",
       "      <td>31</td>\n",
       "      <td>p</td>\n",
       "      <td>compact</td>\n",
       "      <td>24.313725</td>\n",
       "      <td>True</td>\n",
       "      <td>False</td>\n",
       "    </tr>\n",
       "    <tr>\n",
       "      <th>4</th>\n",
       "      <td>audi</td>\n",
       "      <td>a4</td>\n",
       "      <td>2.0</td>\n",
       "      <td>2008</td>\n",
       "      <td>4</td>\n",
       "      <td>auto(av)</td>\n",
       "      <td>f</td>\n",
       "      <td>21</td>\n",
       "      <td>30</td>\n",
       "      <td>p</td>\n",
       "      <td>compact</td>\n",
       "      <td>24.705882</td>\n",
       "      <td>True</td>\n",
       "      <td>True</td>\n",
       "    </tr>\n",
       "    <tr>\n",
       "      <th>5</th>\n",
       "      <td>audi</td>\n",
       "      <td>a4</td>\n",
       "      <td>2.8</td>\n",
       "      <td>1999</td>\n",
       "      <td>6</td>\n",
       "      <td>auto(l5)</td>\n",
       "      <td>f</td>\n",
       "      <td>16</td>\n",
       "      <td>26</td>\n",
       "      <td>p</td>\n",
       "      <td>compact</td>\n",
       "      <td>19.809524</td>\n",
       "      <td>True</td>\n",
       "      <td>True</td>\n",
       "    </tr>\n",
       "  </tbody>\n",
       "</table>\n",
       "</div>"
      ],
      "text/plain": [
       "  manufacturer model  displ  year  cyl       trans drv  cty  hwy fl    class  \\\n",
       "1         audi    a4    1.8  1999    4    auto(l5)   f   18   29  p  compact   \n",
       "2         audi    a4    1.8  1999    4  manual(m5)   f   21   29  p  compact   \n",
       "3         audi    a4    2.0  2008    4  manual(m6)   f   20   31  p  compact   \n",
       "4         audi    a4    2.0  2008    4    auto(av)   f   21   30  p  compact   \n",
       "5         audi    a4    2.8  1999    6    auto(l5)   f   16   26  p  compact   \n",
       "\n",
       "     ovr_all  compact  is_auto  \n",
       "1  22.212766     True     True  \n",
       "2  24.360000     True    False  \n",
       "3  24.313725     True    False  \n",
       "4  24.705882     True     True  \n",
       "5  19.809524     True     True  "
      ]
     },
     "execution_count": 263,
     "metadata": {},
     "output_type": "execute_result"
    }
   ],
   "source": [
    "mpg[\"is_auto\"] = (mpg[\"trans\"].str.startswith(\"a\"))\n",
    "mpg.head()"
   ]
  },
  {
   "cell_type": "code",
   "execution_count": 264,
   "id": "26d95cd3",
   "metadata": {},
   "outputs": [],
   "source": [
    "# two samples of one population\n",
    "# do man cars gas < auto cars gas\n"
   ]
  },
  {
   "cell_type": "code",
   "execution_count": 265,
   "id": "b320d99f",
   "metadata": {},
   "outputs": [
    {
     "data": {
      "text/plain": [
       "(array([ 6., 35., 27., 22., 33., 18.,  9.,  4.,  2.,  1.]),\n",
       " array([10.28571429, 12.65428571, 15.02285714, 17.39142857, 19.76      ,\n",
       "        22.12857143, 24.49714286, 26.86571429, 29.23428571, 31.60285714,\n",
       "        33.97142857]),\n",
       " <BarContainer object of 10 artists>)"
      ]
     },
     "execution_count": 265,
     "metadata": {},
     "output_type": "execute_result"
    },
    {
     "data": {
      "image/png": "[encoded data removed]",
      "text/plain": [
       "<Figure size 640x480 with 1 Axes>"
      ]
     },
     "metadata": {},
     "output_type": "display_data"
    }
   ],
   "source": [
    "auto_gas_sample = mpg[mpg.is_auto == True ].ovr_all\n",
    "plt.hist(auto_gas_sample)"
   ]
  },
  {
   "cell_type": "code",
   "execution_count": 266,
   "id": "f0102d61",
   "metadata": {},
   "outputs": [
    {
     "data": {
      "text/plain": [
       "(array([ 2.,  9., 10., 21., 23.,  5.,  4.,  1.,  0.,  2.]),\n",
       " array([10.28571429, 13.15587703, 16.02603978, 18.89620253, 21.76636528,\n",
       "        24.63652803, 27.50669078, 30.37685353, 33.24701627, 36.11717902,\n",
       "        38.98734177]),\n",
       " <BarContainer object of 10 artists>)"
      ]
     },
     "execution_count": 266,
     "metadata": {},
     "output_type": "execute_result"
    },
    {
     "data": {
      "image/png": "[encoded data removed]",
      "text/plain": [
       "<Figure size 640x480 with 1 Axes>"
      ]
     },
     "metadata": {},
     "output_type": "display_data"
    }
   ],
   "source": [
    "man_gas_sample = mpg[mpg.is_auto == False ].ovr_all\n",
    "plt.hist(man_gas_sample)"
   ]
  },
  {
   "cell_type": "code",
   "execution_count": 267,
   "id": "d9992f1a",
   "metadata": {},
   "outputs": [
    {
     "data": {
      "text/plain": [
       "77"
      ]
     },
     "execution_count": 267,
     "metadata": {},
     "output_type": "execute_result"
    }
   ],
   "source": [
    "man_gas_sample.count()"
   ]
  },
  {
   "cell_type": "code",
   "execution_count": 268,
   "id": "782e31d0",
   "metadata": {},
   "outputs": [
    {
     "data": {
      "text/plain": [
       "157"
      ]
     },
     "execution_count": 268,
     "metadata": {},
     "output_type": "execute_result"
    }
   ],
   "source": [
    "auto_gas_sample.count()"
   ]
  },
  {
   "cell_type": "code",
   "execution_count": 269,
   "id": "9b957a94",
   "metadata": {},
   "outputs": [
    {
     "data": {
      "text/plain": [
       "25.665633639828275"
      ]
     },
     "execution_count": 269,
     "metadata": {},
     "output_type": "execute_result"
    }
   ],
   "source": [
    "man_gas_sample.var()"
   ]
  },
  {
   "cell_type": "code",
   "execution_count": 270,
   "id": "0a9725e5",
   "metadata": {},
   "outputs": [
    {
     "data": {
      "text/plain": [
       "20.428279095002054"
      ]
     },
     "execution_count": 270,
     "metadata": {},
     "output_type": "execute_result"
    }
   ],
   "source": [
    "auto_gas_sample.var()"
   ]
  },
  {
   "cell_type": "code",
   "execution_count": 271,
   "id": "e3e42ef8",
   "metadata": {},
   "outputs": [
    {
     "data": {
      "text/plain": [
       "(4.47444321386703, 7.99035135103976e-06)"
      ]
     },
     "execution_count": 271,
     "metadata": {},
     "output_type": "execute_result"
    }
   ],
   "source": [
    "t, p = stats.ttest_ind(man_gas_sample, auto_gas_sample, equal_var=False)\n",
    "t, p / 2"
   ]
  },
  {
   "cell_type": "code",
   "execution_count": 272,
   "id": "60fcb63b",
   "metadata": {},
   "outputs": [
    {
     "name": "stdout",
     "output_type": "stream",
     "text": [
      "is p/2 < alpha?  True\n",
      "is t > 0?  True\n"
     ]
    }
   ],
   "source": [
    "print(\"is p/2 < alpha? \", p / 2 < alpha)\n",
    "print(\"is t > 0? \", t > 0)"
   ]
  },
  {
   "cell_type": "code",
   "execution_count": 273,
   "id": "a5b13ec5",
   "metadata": {},
   "outputs": [
    {
     "name": "stdout",
     "output_type": "stream",
     "text": [
      "We reject $H_{0}$\n"
     ]
    }
   ],
   "source": [
    "if p / 2 > alpha:\n",
    "    print(\"We fail to reject $H_{0}$\")\n",
    "elif t < 0:\n",
    "    print(\"We fail to reject $H_{0}$\")\n",
    "else:\n",
    "    print(\"We reject $H_{0}$\")"
   ]
  },
  {
   "cell_type": "code",
   "execution_count": null,
   "id": "97b7b1df",
   "metadata": {},
   "outputs": [],
   "source": []
  },
  {
   "cell_type": "code",
   "execution_count": null,
   "id": "5a2d36f5",
   "metadata": {},
   "outputs": [],
   "source": []
  }
 ],
 "metadata": {
  "kernelspec": {
   "display_name": "Python 3 (ipykernel)",
   "language": "python",
   "name": "python3"
  },
  "language_info": {
   "codemirror_mode": {
    "name": "ipython",
    "version": 3
   },
   "file_extension": ".py",
   "mimetype": "text/x-python",
   "name": "python",
   "nbconvert_exporter": "python",
   "pygments_lexer": "ipython3",
   "version": "3.9.13"
  }
 },
 "nbformat": 4,
 "nbformat_minor": 5
}
